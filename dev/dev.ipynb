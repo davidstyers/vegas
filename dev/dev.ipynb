{
 "cells": [
  {
   "cell_type": "code",
   "execution_count": 6,
   "id": "db351fea",
   "metadata": {},
   "outputs": [],
   "source": [
    "from datetime import datetime\n",
    "\n",
    "from vegas.data.data_layer import DataLayer"
   ]
  },
  {
   "cell_type": "code",
   "execution_count": 25,
   "id": "59e411b1",
   "metadata": {},
   "outputs": [],
   "source": [
    "data = DataLayer(timezone=\"EST\", data_dir=\"../db\")\n",
    "\n",
    "uni = data.get_data_for_backtest(start=datetime(2024, 1, 1), end=datetime(2025, 1, 1))"
   ]
  },
  {
   "cell_type": "code",
   "execution_count": 26,
   "id": "a00620c8",
   "metadata": {},
   "outputs": [
    {
     "data": {
      "text/plain": [
       "16195931"
      ]
     },
     "execution_count": 26,
     "metadata": {},
     "output_type": "execute_result"
    }
   ],
   "source": [
    "len(uni)"
   ]
  },
  {
   "cell_type": "code",
   "execution_count": null,
   "id": "521fdef9",
   "metadata": {},
   "outputs": [],
   "source": []
  },
  {
   "cell_type": "code",
   "execution_count": null,
   "id": "e216f3f6",
   "metadata": {},
   "outputs": [],
   "source": []
  },
  {
   "cell_type": "code",
   "execution_count": null,
   "id": "05dd478c",
   "metadata": {},
   "outputs": [],
   "source": []
  }
 ],
 "metadata": {
  "kernelspec": {
   "display_name": "vegas-l2H2nKBQ-py3.13",
   "language": "python",
   "name": "python3"
  },
  "language_info": {
   "codemirror_mode": {
    "name": "ipython",
    "version": 3
   },
   "file_extension": ".py",
   "mimetype": "text/x-python",
   "name": "python",
   "nbconvert_exporter": "python",
   "pygments_lexer": "ipython3",
   "version": "3.13.5"
  }
 },
 "nbformat": 4,
 "nbformat_minor": 5
}
